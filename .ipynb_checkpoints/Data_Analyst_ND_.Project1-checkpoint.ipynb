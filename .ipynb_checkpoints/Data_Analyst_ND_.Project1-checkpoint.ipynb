{
 "cells": [
  {
   "cell_type": "markdown",
   "metadata": {},
   "source": [
    "In a Stroop task, participants are presented with a list of words, with each word displayed in a color of ink. The participant’s task is to say out loud the color of the ink in which the word is printed. The task has two conditions: a congruent words condition, and an incongruent words condition. In the congruent words condition, the words being displayed are color words whose names match the colors in which they are printed: for example RED, BLUE. In the incongruent words condition, the words displayed are color words whose names do not match the colors in which they are printed: for example PURPLE, ORANGE. In each case, we measure the time it takes to name the ink colors in equally-sized lists. Each participant will go through and record a time from each condition."
   ]
  },
  {
   "cell_type": "raw",
   "metadata": {},
   "source": [
    "1. What is our independent variable? What is our dependent variable?\n"
   ]
  },
  {
   "cell_type": "markdown",
   "metadata": {},
   "source": [
    "Our indepdendent variable is whether the word is either congruent or icongruent and our dependent variable is the time that it takes to name the ink colors."
   ]
  },
  {
   "cell_type": "raw",
   "metadata": {},
   "source": [
    "2. What is an appropriate set of hypotheses for this task? What kind of statistical test do you expect to perform? Justify your choices.\n"
   ]
  },
  {
   "cell_type": "markdown",
   "metadata": {},
   "source": [
    "(Now it’s your chance to try out the Stroop task for yourself. Go to this link, which has a Java-based applet for performing the Stroop task. Record the times that you received on the task (you do not need to submit your times to the site.) Now, download this dataset which contains results from a number of participants in the task. Each row of the dataset contains the performance for one participant, with the first number their results on the congruent task and the second number their performance on the incongruent task.)\n",
    "\n",
    "Null hypothesis for this task is that it takes the same time on average to read congruent and incongruent words. I am going to use ANOVA to infer the difference in performance. If the perforamnce data shows statistically significant difference, we can determine that the incongruent words make an impact on reading performance.   "
   ]
  },
  {
   "cell_type": "markdown",
   "metadata": {},
   "source": [
    "Additional answers to comments:\n",
    "\n",
    "1.First, declare explicitly the set of hypotheses. \n",
    "◦This means declaring the null and alternative hypotheses for the test you choose. \n",
    "\n",
    "◦Also Be sure to explain the hypotheses in detail, specifically pertaining to if they are referencing the sample( designate by x) or the population (designated by u).\n",
    "http://stattrek.com/sampling/populations-and-samples.aspx\n",
    "◾The first and the most important is the key to why this subject is considered to be a part of Inferential Statistics.\n",
    "◾The idea of hypothesis testing is that we have limited data, samples (denoted by X), and from that limited data, we are trying to infer something about the population (denoted by U)\n",
    "◾We do not need to perform inferential hypothesis testing on the sample means because that is easy - if we want to know if the sample means are different, we just calculate the means and compare.\n",
    "◾So to say we are testing to infer anything about the sample means is incorrect, we are trying to infer something about the population (population means).\n",
    "\n",
    "◦Also be aware that the set of hypotheses will differ depending on if you choose a one-tail/one-sided or a two-tail/two-sided test and the tail-type should be declared.\n",
    "http://www.chem.utoronto.ca/coursenotes/analsci/StatsTutorial/12tailed.html\n",
    "\n",
    "\n",
    "2.Second, declare the appropriate test and justify your answers. Why is this test appropriate? When doing this consider the following.◦Are the participants from the different trials paired/dependent or unpaired/independent?\n",
    "◦Then please remember to justify why you have chosen this version of the test.\n",
    "https://en.wikipedia.org/wiki/Student%27s_t-test#Unpaired_and_paired_two-sample_t-tests\n",
    "\n"
   ]
  },
  {
   "cell_type": "markdown",
   "metadata": {},
   "source": [
    "Considering that the experiment aims to prove cognition processing time delay to different information better performance, the hypotheses will be\n",
    "H0 : u1 >= u2\n",
    "H1 : u1 < u2\n",
    "\n",
    "I will use u1 for the mean of Congruent word performance population and u2 for the mean of Incongruent word performance population. \n",
    "\n",
    "From the experiments, you want to identify the performance delay due to different information. Therefore, it is necessary to demonstrate that the u1 is less than u2. That is to say, the null hypothesis will be rejected when the mean of congruent word population shows better performance than the one of incongruent word population does.\n",
    "\n",
    "These hypotheses will be verified by one tailed test.  And since the experiement was performed by each participants and we can think two data are paired or associated, I will run t -test with paired samples and one tailed test. "
   ]
  },
  {
   "cell_type": "raw",
   "metadata": {},
   "source": [
    "3. Report some descriptive statistics regarding this dataset. Include at least one measure of central tendency and at least one measure of variability.\n"
   ]
  },
  {
   "cell_type": "code",
   "execution_count": 2,
   "metadata": {
    "collapsed": false
   },
   "outputs": [
    {
     "data": {
      "text/html": [
       "<div style=\"max-height:1000px;max-width:1500px;overflow:auto;\">\n",
       "<table border=\"1\" class=\"dataframe\">\n",
       "  <thead>\n",
       "    <tr style=\"text-align: right;\">\n",
       "      <th></th>\n",
       "      <th>Congruent</th>\n",
       "      <th>Incongruent</th>\n",
       "    </tr>\n",
       "  </thead>\n",
       "  <tbody>\n",
       "    <tr>\n",
       "      <th>count</th>\n",
       "      <td> 24.000000</td>\n",
       "      <td> 24.000000</td>\n",
       "    </tr>\n",
       "    <tr>\n",
       "      <th>mean</th>\n",
       "      <td> 14.051125</td>\n",
       "      <td> 22.015917</td>\n",
       "    </tr>\n",
       "    <tr>\n",
       "      <th>std</th>\n",
       "      <td>  3.559358</td>\n",
       "      <td>  4.797057</td>\n",
       "    </tr>\n",
       "    <tr>\n",
       "      <th>min</th>\n",
       "      <td>  8.630000</td>\n",
       "      <td> 15.687000</td>\n",
       "    </tr>\n",
       "    <tr>\n",
       "      <th>25%</th>\n",
       "      <td> 11.895250</td>\n",
       "      <td> 18.716750</td>\n",
       "    </tr>\n",
       "    <tr>\n",
       "      <th>50%</th>\n",
       "      <td> 14.356500</td>\n",
       "      <td> 21.017500</td>\n",
       "    </tr>\n",
       "    <tr>\n",
       "      <th>75%</th>\n",
       "      <td> 16.200750</td>\n",
       "      <td> 24.051500</td>\n",
       "    </tr>\n",
       "    <tr>\n",
       "      <th>max</th>\n",
       "      <td> 22.328000</td>\n",
       "      <td> 35.255000</td>\n",
       "    </tr>\n",
       "  </tbody>\n",
       "</table>\n",
       "</div>"
      ],
      "text/plain": [
       "       Congruent  Incongruent\n",
       "count  24.000000    24.000000\n",
       "mean   14.051125    22.015917\n",
       "std     3.559358     4.797057\n",
       "min     8.630000    15.687000\n",
       "25%    11.895250    18.716750\n",
       "50%    14.356500    21.017500\n",
       "75%    16.200750    24.051500\n",
       "max    22.328000    35.255000"
      ]
     },
     "execution_count": 2,
     "metadata": {},
     "output_type": "execute_result"
    }
   ],
   "source": [
    "import pandas as pd\n",
    "\n",
    "df = pd.read_csv('stroopdata.csv')\n",
    "df.describe()"
   ]
  },
  {
   "cell_type": "raw",
   "metadata": {},
   "source": [
    "4. Provide one or two visualizations that show the distribution of the sample data. Write one or two sentences noting what you observe about the plot or plots.\n"
   ]
  },
  {
   "cell_type": "code",
   "execution_count": 3,
   "metadata": {
    "collapsed": false
   },
   "outputs": [
    {
     "name": "stdout",
     "output_type": "stream",
     "text": [
      "Populating the interactive namespace from numpy and matplotlib\n"
     ]
    },
    {
     "data": {
      "text/plain": [
       "<matplotlib.legend.Legend at 0x162c7470>"
      ]
     },
     "execution_count": 3,
     "metadata": {},
     "output_type": "execute_result"
    },
    {
     "data": {
      "image/png": "[encoded data removed]",
      "text/plain": [
       "<matplotlib.figure.Figure at 0x158a3588>"
      ]
     },
     "metadata": {},
     "output_type": "display_data"
    }
   ],
   "source": [
    "%pylab inline\n",
    "import matplotlib.pyplot as plt\n",
    "\n",
    "lst = [df['Congruent'],df['Incongruent']]\n",
    "plt.boxplot(lst, showmeans = True);\n",
    "plt.ylabel('Reading Time');\n",
    "plt.legend(['Congruent', 'Incongruent'])"
   ]
  },
  {
   "cell_type": "code",
   "execution_count": 4,
   "metadata": {
    "collapsed": false
   },
   "outputs": [
    {
     "data": {
      "text/plain": [
       "<matplotlib.legend.Legend at 0x32d05c0>"
      ]
     },
     "execution_count": 4,
     "metadata": {},
     "output_type": "execute_result"
    },
    {
     "data": {
      "image/png": "[encoded data removed]",
      "text/plain": [
       "<matplotlib.figure.Figure at 0x158a3470>"
      ]
     },
     "metadata": {},
     "output_type": "display_data"
    }
   ],
   "source": [
    "plt.hist(lst)\n",
    "plt.ylabel('Reading Time')\n",
    "\n",
    "plt.legend(['Congruent', 'Incongruent'])"
   ]
  },
  {
   "cell_type": "markdown",
   "metadata": {},
   "source": [
    "Both congruent and incongruent word data seems to be a liitle left skewed but uni-modal. We can assume that both are normally distributed. however, the incongruent word data has two outlier data. "
   ]
  },
  {
   "cell_type": "raw",
   "metadata": {},
   "source": [
    "5. Now, perform the statistical test and report your results. What is your confidence level and your critical statistic value? Do you reject the null hypothesis or fail to reject it? Come to a conclusion in terms of the experiment task. Did the results match up with your expectations?\n"
   ]
  },
  {
   "cell_type": "code",
   "execution_count": 5,
   "metadata": {
    "collapsed": false
   },
   "outputs": [
    {
     "data": {
      "text/plain": [
       "42.670297298968549"
      ]
     },
     "execution_count": 5,
     "metadata": {},
     "output_type": "execute_result"
    }
   ],
   "source": [
    "from scipy import stats\n",
    "F, p = stats.f_oneway(*lst)\n",
    "F"
   ]
  },
  {
   "cell_type": "code",
   "execution_count": 6,
   "metadata": {
    "collapsed": false
   },
   "outputs": [
    {
     "data": {
      "text/plain": [
       "0.99999995405051034"
      ]
     },
     "execution_count": 6,
     "metadata": {},
     "output_type": "execute_result"
    }
   ],
   "source": [
    "1 - p"
   ]
  },
  {
   "cell_type": "markdown",
   "metadata": {},
   "source": [
    "Two data are statistically different with 95% confidence level. So it rejects the null hypothesis and the average of congruent word data is smaller than one of incongruent word data. \n",
    "So it shows that the people can react faster to congruent words, which is well matched to the conclustion. \n",
    "In addition, I have checked the outlier detection with Grubb's test and 95% CI for incongruent word data. They shows two outlier data as follows:"
   ]
  },
  {
   "cell_type": "code",
   "execution_count": 7,
   "metadata": {
    "collapsed": false
   },
   "outputs": [
    {
     "data": {
      "text/plain": [
       "0     19.278\n",
       "1     18.741\n",
       "2     21.214\n",
       "3     15.687\n",
       "4     22.803\n",
       "5     20.878\n",
       "6     24.572\n",
       "7     17.394\n",
       "8     20.762\n",
       "9     26.282\n",
       "10    24.524\n",
       "11    18.644\n",
       "12    17.510\n",
       "13    20.330\n",
       "14    35.255\n",
       "15    22.158\n",
       "16    25.139\n",
       "17    20.429\n",
       "18    17.425\n",
       "19    34.288\n",
       "20    23.894\n",
       "21    17.960\n",
       "22    22.058\n",
       "23    21.157\n",
       "Name: Incongruent, dtype: float64"
      ]
     },
     "execution_count": 7,
     "metadata": {},
     "output_type": "execute_result"
    }
   ],
   "source": [
    "lst[1]"
   ]
  },
  {
   "cell_type": "code",
   "execution_count": 8,
   "metadata": {
    "collapsed": false
   },
   "outputs": [
    {
     "data": {
      "text/plain": [
       "0     19.278\n",
       "1     18.741\n",
       "2     21.214\n",
       "3     15.687\n",
       "4     22.803\n",
       "5     20.878\n",
       "6     24.572\n",
       "7     17.394\n",
       "8     20.762\n",
       "9     26.282\n",
       "10    24.524\n",
       "11    18.644\n",
       "12    17.510\n",
       "13    20.330\n",
       "15    22.158\n",
       "16    25.139\n",
       "17    20.429\n",
       "18    17.425\n",
       "19    34.288\n",
       "20    23.894\n",
       "21    17.960\n",
       "22    22.058\n",
       "23    21.157\n",
       "Name: Incongruent, dtype: float64"
      ]
     },
     "execution_count": 8,
     "metadata": {},
     "output_type": "execute_result"
    }
   ],
   "source": [
    "adIncongruent = [a < lst[1].mean() + 2.64*lst[1].std() for a in lst[1]]\n",
    "adI = lst[1][adIncongruent]\n",
    "adI"
   ]
  },
  {
   "cell_type": "markdown",
   "metadata": {},
   "source": [
    "one data with 35.255 is detected. "
   ]
  },
  {
   "cell_type": "code",
   "execution_count": 9,
   "metadata": {
    "collapsed": false,
    "scrolled": true
   },
   "outputs": [
    {
     "data": {
      "text/plain": [
       "0     19.278\n",
       "1     18.741\n",
       "2     21.214\n",
       "3     15.687\n",
       "4     22.803\n",
       "5     20.878\n",
       "6     24.572\n",
       "7     17.394\n",
       "8     20.762\n",
       "9     26.282\n",
       "10    24.524\n",
       "11    18.644\n",
       "12    17.510\n",
       "13    20.330\n",
       "15    22.158\n",
       "16    25.139\n",
       "17    20.429\n",
       "18    17.425\n",
       "20    23.894\n",
       "21    17.960\n",
       "22    22.058\n",
       "23    21.157\n",
       "Name: Incongruent, dtype: float64"
      ]
     },
     "execution_count": 9,
     "metadata": {},
     "output_type": "execute_result"
    }
   ],
   "source": [
    "#for a in adI:\n",
    "#    if a < adI.mean() + 2.64*adI.std():\n",
    "#        print a\n",
    "adI\n",
    "adIm = [a < adI.mean() + 2.62*adI.std() for a in adI]\n",
    "adII = adI[adIm]\n",
    "adII\n",
    "#adI"
   ]
  },
  {
   "cell_type": "markdown",
   "metadata": {},
   "source": [
    "Another data with 34.288 is also detected as a outlier."
   ]
  },
  {
   "cell_type": "code",
   "execution_count": 10,
   "metadata": {
    "collapsed": false
   },
   "outputs": [
    {
     "data": {
      "text/plain": [
       "0     19.278\n",
       "1     18.741\n",
       "2     21.214\n",
       "3     15.687\n",
       "4     22.803\n",
       "5     20.878\n",
       "6     24.572\n",
       "7     17.394\n",
       "8     20.762\n",
       "9     26.282\n",
       "10    24.524\n",
       "11    18.644\n",
       "12    17.510\n",
       "13    20.330\n",
       "15    22.158\n",
       "16    25.139\n",
       "17    20.429\n",
       "18    17.425\n",
       "19    34.288\n",
       "20    23.894\n",
       "21    17.960\n",
       "22    22.058\n",
       "Name: Incongruent, dtype: float64"
      ]
     },
     "execution_count": 10,
     "metadata": {},
     "output_type": "execute_result"
    }
   ],
   "source": [
    "adIIm = [a < adII.mean() + 2.62*adII.std() for a in adII]\n",
    "adIII = adI[adIIm]\n",
    "adIII"
   ]
  },
  {
   "cell_type": "markdown",
   "metadata": {},
   "source": [
    "No more outlier data is detected"
   ]
  },
  {
   "cell_type": "code",
   "execution_count": 11,
   "metadata": {
    "collapsed": false
   },
   "outputs": [
    {
     "data": {
      "text/plain": [
       "(43.394093490713409, 4.6132768157675698e-08)"
      ]
     },
     "execution_count": 11,
     "metadata": {},
     "output_type": "execute_result"
    }
   ],
   "source": [
    "stats.f_oneway(lst[0],adIII)"
   ]
  },
  {
   "cell_type": "markdown",
   "metadata": {},
   "source": [
    "They are still statistically significantly different."
   ]
  },
  {
   "cell_type": "markdown",
   "metadata": {},
   "source": [
    "Reviewer Comments\n",
    "The results are consistent with an ANOVA test. Please note the feedback in Question 2 and the results of this section may change depending on the actions taken from the feedback in Question 2."
   ]
  },
  {
   "cell_type": "code",
   "execution_count": 14,
   "metadata": {
    "collapsed": false
   },
   "outputs": [
    {
     "data": {
      "text/plain": [
       "(-8.020706944109957, 4.1030005857111781e-08)"
      ]
     },
     "execution_count": 14,
     "metadata": {},
     "output_type": "execute_result"
    }
   ],
   "source": [
    "stats.ttest_rel(*lst)"
   ]
  },
  {
   "cell_type": "markdown",
   "metadata": {},
   "source": [
    "I have use t-test with paired samples and one-tailed test. \n",
    "t value is -8.0207 and the associated p value is 2 * 4.10e-8 (for one tailed test). Since the P value is much smaller than 0.05 (significant level). So the null hypothesis is rejected with 95% confidence level.  "
   ]
  },
  {
   "cell_type": "raw",
   "metadata": {},
   "source": [
    "6. Optional: What do you think is responsible for the effects observed? Can you think of an alternative or similar task that would result in a similar effect? Some research about the problem will be helpful for thinking about these two questions!"
   ]
  },
  {
   "cell_type": "markdown",
   "metadata": {},
   "source": [
    "The effect is caused by cognitive processing time over different information. For similar experiments, it could be an alternative experiments that selects same color or same shape figures among differnt figures differnt colors."
   ]
  },
  {
   "cell_type": "markdown",
   "metadata": {},
   "source": [
    "References\n",
    "[1] http://www.github.com/seungcheolyang/nanodegree\n",
    "[2] http://docs.scipy.org/doc/scipy-0.15.1/reference/index.html\n"
   ]
  }
 ],
 "metadata": {
  "kernelspec": {
   "display_name": "Python 2",
   "language": "python",
   "name": "python2"
  },
  "language_info": {
   "codemirror_mode": {
    "name": "ipython",
    "version": 2
   },
   "file_extension": ".py",
   "mimetype": "text/x-python",
   "name": "python",
   "nbconvert_exporter": "python",
   "pygments_lexer": "ipython2",
   "version": "2.7.9"
  }
 },
 "nbformat": 4,
 "nbformat_minor": 0
}
